{
 "cells": [
  {
   "cell_type": "code",
   "execution_count": 1,
   "id": "5011de67-dcf8-46e1-8aa8-a4bbfeb44ad7",
   "metadata": {},
   "outputs": [],
   "source": [
    "import numpy as np\n",
    "import pandas as pd"
   ]
  },
  {
   "cell_type": "code",
   "execution_count": 6,
   "id": "607e752f-e4e9-46b8-96ac-d66f7e12f96c",
   "metadata": {},
   "outputs": [],
   "source": [
    "data=pd.read_csv(\"C:/Users/rajir/Downloads/data.csv\")"
   ]
  },
  {
   "cell_type": "code",
   "execution_count": 7,
   "id": "437dc931-67c3-4212-b68e-91c651db5be3",
   "metadata": {},
   "outputs": [
    {
     "data": {
      "text/html": [
       "<div>\n",
       "<style scoped>\n",
       "    .dataframe tbody tr th:only-of-type {\n",
       "        vertical-align: middle;\n",
       "    }\n",
       "\n",
       "    .dataframe tbody tr th {\n",
       "        vertical-align: top;\n",
       "    }\n",
       "\n",
       "    .dataframe thead th {\n",
       "        text-align: right;\n",
       "    }\n",
       "</style>\n",
       "<table border=\"1\" class=\"dataframe\">\n",
       "  <thead>\n",
       "    <tr style=\"text-align: right;\">\n",
       "      <th></th>\n",
       "      <th>Age</th>\n",
       "      <th>Education_Level</th>\n",
       "      <th>Occupation</th>\n",
       "      <th>Number_of_Dependents</th>\n",
       "      <th>Location</th>\n",
       "      <th>Work_Experience</th>\n",
       "      <th>Marital_Status</th>\n",
       "      <th>Employment_Status</th>\n",
       "      <th>Household_Size</th>\n",
       "      <th>Homeownership_Status</th>\n",
       "      <th>Type_of_Housing</th>\n",
       "      <th>Gender</th>\n",
       "      <th>Primary_Mode_of_Transportation</th>\n",
       "      <th>Income</th>\n",
       "    </tr>\n",
       "  </thead>\n",
       "  <tbody>\n",
       "    <tr>\n",
       "      <th>0</th>\n",
       "      <td>56</td>\n",
       "      <td>Master's</td>\n",
       "      <td>Technology</td>\n",
       "      <td>5</td>\n",
       "      <td>Urban</td>\n",
       "      <td>21</td>\n",
       "      <td>Married</td>\n",
       "      <td>Full-time</td>\n",
       "      <td>7</td>\n",
       "      <td>Own</td>\n",
       "      <td>Apartment</td>\n",
       "      <td>Male</td>\n",
       "      <td>Public transit</td>\n",
       "      <td>72510</td>\n",
       "    </tr>\n",
       "    <tr>\n",
       "      <th>1</th>\n",
       "      <td>69</td>\n",
       "      <td>High School</td>\n",
       "      <td>Finance</td>\n",
       "      <td>0</td>\n",
       "      <td>Urban</td>\n",
       "      <td>4</td>\n",
       "      <td>Single</td>\n",
       "      <td>Full-time</td>\n",
       "      <td>7</td>\n",
       "      <td>Own</td>\n",
       "      <td>Apartment</td>\n",
       "      <td>Male</td>\n",
       "      <td>Biking</td>\n",
       "      <td>75462</td>\n",
       "    </tr>\n",
       "    <tr>\n",
       "      <th>2</th>\n",
       "      <td>46</td>\n",
       "      <td>Bachelor's</td>\n",
       "      <td>Technology</td>\n",
       "      <td>1</td>\n",
       "      <td>Urban</td>\n",
       "      <td>1</td>\n",
       "      <td>Single</td>\n",
       "      <td>Full-time</td>\n",
       "      <td>7</td>\n",
       "      <td>Own</td>\n",
       "      <td>Single-family home</td>\n",
       "      <td>Female</td>\n",
       "      <td>Car</td>\n",
       "      <td>71748</td>\n",
       "    </tr>\n",
       "    <tr>\n",
       "      <th>3</th>\n",
       "      <td>32</td>\n",
       "      <td>High School</td>\n",
       "      <td>Others</td>\n",
       "      <td>2</td>\n",
       "      <td>Urban</td>\n",
       "      <td>32</td>\n",
       "      <td>Married</td>\n",
       "      <td>Full-time</td>\n",
       "      <td>1</td>\n",
       "      <td>Own</td>\n",
       "      <td>Apartment</td>\n",
       "      <td>Female</td>\n",
       "      <td>Car</td>\n",
       "      <td>74520</td>\n",
       "    </tr>\n",
       "    <tr>\n",
       "      <th>4</th>\n",
       "      <td>60</td>\n",
       "      <td>Bachelor's</td>\n",
       "      <td>Finance</td>\n",
       "      <td>3</td>\n",
       "      <td>Urban</td>\n",
       "      <td>15</td>\n",
       "      <td>Married</td>\n",
       "      <td>Self-employed</td>\n",
       "      <td>4</td>\n",
       "      <td>Own</td>\n",
       "      <td>Townhouse</td>\n",
       "      <td>Male</td>\n",
       "      <td>Walking</td>\n",
       "      <td>640210</td>\n",
       "    </tr>\n",
       "  </tbody>\n",
       "</table>\n",
       "</div>"
      ],
      "text/plain": [
       "   Age Education_Level  Occupation  Number_of_Dependents Location  \\\n",
       "0   56        Master's  Technology                     5    Urban   \n",
       "1   69     High School     Finance                     0    Urban   \n",
       "2   46      Bachelor's  Technology                     1    Urban   \n",
       "3   32     High School      Others                     2    Urban   \n",
       "4   60      Bachelor's     Finance                     3    Urban   \n",
       "\n",
       "   Work_Experience Marital_Status Employment_Status  Household_Size  \\\n",
       "0               21        Married         Full-time               7   \n",
       "1                4         Single         Full-time               7   \n",
       "2                1         Single         Full-time               7   \n",
       "3               32        Married         Full-time               1   \n",
       "4               15        Married     Self-employed               4   \n",
       "\n",
       "  Homeownership_Status     Type_of_Housing  Gender  \\\n",
       "0                  Own           Apartment    Male   \n",
       "1                  Own           Apartment    Male   \n",
       "2                  Own  Single-family home  Female   \n",
       "3                  Own           Apartment  Female   \n",
       "4                  Own           Townhouse    Male   \n",
       "\n",
       "  Primary_Mode_of_Transportation  Income  \n",
       "0                 Public transit   72510  \n",
       "1                         Biking   75462  \n",
       "2                            Car   71748  \n",
       "3                            Car   74520  \n",
       "4                        Walking  640210  "
      ]
     },
     "execution_count": 7,
     "metadata": {},
     "output_type": "execute_result"
    }
   ],
   "source": [
    "data.head()"
   ]
  },
  {
   "cell_type": "code",
   "execution_count": 8,
   "id": "916c92b2-d381-4e9f-9b72-42862b9e218e",
   "metadata": {},
   "outputs": [
    {
     "data": {
      "text/html": [
       "<div>\n",
       "<style scoped>\n",
       "    .dataframe tbody tr th:only-of-type {\n",
       "        vertical-align: middle;\n",
       "    }\n",
       "\n",
       "    .dataframe tbody tr th {\n",
       "        vertical-align: top;\n",
       "    }\n",
       "\n",
       "    .dataframe thead th {\n",
       "        text-align: right;\n",
       "    }\n",
       "</style>\n",
       "<table border=\"1\" class=\"dataframe\">\n",
       "  <thead>\n",
       "    <tr style=\"text-align: right;\">\n",
       "      <th></th>\n",
       "      <th>Age</th>\n",
       "      <th>Education_Level</th>\n",
       "      <th>Occupation</th>\n",
       "      <th>Number_of_Dependents</th>\n",
       "      <th>Location</th>\n",
       "      <th>Work_Experience</th>\n",
       "      <th>Marital_Status</th>\n",
       "      <th>Employment_Status</th>\n",
       "      <th>Household_Size</th>\n",
       "      <th>Homeownership_Status</th>\n",
       "      <th>Type_of_Housing</th>\n",
       "      <th>Gender</th>\n",
       "      <th>Primary_Mode_of_Transportation</th>\n",
       "      <th>Income</th>\n",
       "    </tr>\n",
       "  </thead>\n",
       "  <tbody>\n",
       "    <tr>\n",
       "      <th>9995</th>\n",
       "      <td>58</td>\n",
       "      <td>High School</td>\n",
       "      <td>Others</td>\n",
       "      <td>0</td>\n",
       "      <td>Suburban</td>\n",
       "      <td>26</td>\n",
       "      <td>Divorced</td>\n",
       "      <td>Full-time</td>\n",
       "      <td>6</td>\n",
       "      <td>Own</td>\n",
       "      <td>Townhouse</td>\n",
       "      <td>Female</td>\n",
       "      <td>Car</td>\n",
       "      <td>74994</td>\n",
       "    </tr>\n",
       "    <tr>\n",
       "      <th>9996</th>\n",
       "      <td>23</td>\n",
       "      <td>Master's</td>\n",
       "      <td>Technology</td>\n",
       "      <td>3</td>\n",
       "      <td>Urban</td>\n",
       "      <td>16</td>\n",
       "      <td>Divorced</td>\n",
       "      <td>Full-time</td>\n",
       "      <td>1</td>\n",
       "      <td>Own</td>\n",
       "      <td>Single-family home</td>\n",
       "      <td>Female</td>\n",
       "      <td>Biking</td>\n",
       "      <td>72676</td>\n",
       "    </tr>\n",
       "    <tr>\n",
       "      <th>9997</th>\n",
       "      <td>41</td>\n",
       "      <td>Doctorate</td>\n",
       "      <td>Education</td>\n",
       "      <td>3</td>\n",
       "      <td>Urban</td>\n",
       "      <td>50</td>\n",
       "      <td>Single</td>\n",
       "      <td>Full-time</td>\n",
       "      <td>4</td>\n",
       "      <td>Own</td>\n",
       "      <td>Single-family home</td>\n",
       "      <td>Female</td>\n",
       "      <td>Public transit</td>\n",
       "      <td>2684820</td>\n",
       "    </tr>\n",
       "    <tr>\n",
       "      <th>9998</th>\n",
       "      <td>44</td>\n",
       "      <td>High School</td>\n",
       "      <td>Education</td>\n",
       "      <td>0</td>\n",
       "      <td>Urban</td>\n",
       "      <td>3</td>\n",
       "      <td>Married</td>\n",
       "      <td>Part-time</td>\n",
       "      <td>1</td>\n",
       "      <td>Own</td>\n",
       "      <td>Single-family home</td>\n",
       "      <td>Male</td>\n",
       "      <td>Biking</td>\n",
       "      <td>57955</td>\n",
       "    </tr>\n",
       "    <tr>\n",
       "      <th>9999</th>\n",
       "      <td>37</td>\n",
       "      <td>High School</td>\n",
       "      <td>Healthcare</td>\n",
       "      <td>0</td>\n",
       "      <td>Suburban</td>\n",
       "      <td>48</td>\n",
       "      <td>Married</td>\n",
       "      <td>Part-time</td>\n",
       "      <td>7</td>\n",
       "      <td>Rent</td>\n",
       "      <td>Single-family home</td>\n",
       "      <td>Male</td>\n",
       "      <td>Public transit</td>\n",
       "      <td>1131084</td>\n",
       "    </tr>\n",
       "  </tbody>\n",
       "</table>\n",
       "</div>"
      ],
      "text/plain": [
       "      Age Education_Level  Occupation  Number_of_Dependents  Location  \\\n",
       "9995   58     High School      Others                     0  Suburban   \n",
       "9996   23        Master's  Technology                     3     Urban   \n",
       "9997   41       Doctorate   Education                     3     Urban   \n",
       "9998   44     High School   Education                     0     Urban   \n",
       "9999   37     High School  Healthcare                     0  Suburban   \n",
       "\n",
       "      Work_Experience Marital_Status Employment_Status  Household_Size  \\\n",
       "9995               26       Divorced         Full-time               6   \n",
       "9996               16       Divorced         Full-time               1   \n",
       "9997               50         Single         Full-time               4   \n",
       "9998                3        Married         Part-time               1   \n",
       "9999               48        Married         Part-time               7   \n",
       "\n",
       "     Homeownership_Status     Type_of_Housing  Gender  \\\n",
       "9995                  Own           Townhouse  Female   \n",
       "9996                  Own  Single-family home  Female   \n",
       "9997                  Own  Single-family home  Female   \n",
       "9998                  Own  Single-family home    Male   \n",
       "9999                 Rent  Single-family home    Male   \n",
       "\n",
       "     Primary_Mode_of_Transportation   Income  \n",
       "9995                            Car    74994  \n",
       "9996                         Biking    72676  \n",
       "9997                 Public transit  2684820  \n",
       "9998                         Biking    57955  \n",
       "9999                 Public transit  1131084  "
      ]
     },
     "execution_count": 8,
     "metadata": {},
     "output_type": "execute_result"
    }
   ],
   "source": [
    "data.tail()"
   ]
  },
  {
   "cell_type": "code",
   "execution_count": 9,
   "id": "d9d01d55-516e-40c2-82b9-580afc5789a8",
   "metadata": {},
   "outputs": [
    {
     "data": {
      "text/plain": [
       "(10000, 14)"
      ]
     },
     "execution_count": 9,
     "metadata": {},
     "output_type": "execute_result"
    }
   ],
   "source": [
    "data.shape"
   ]
  },
  {
   "cell_type": "code",
   "execution_count": 10,
   "id": "9b7e0160-52f8-40d5-9bfb-f3b4d2dbdc94",
   "metadata": {},
   "outputs": [
    {
     "name": "stdout",
     "output_type": "stream",
     "text": [
      "<class 'pandas.core.frame.DataFrame'>\n",
      "RangeIndex: 10000 entries, 0 to 9999\n",
      "Data columns (total 14 columns):\n",
      " #   Column                          Non-Null Count  Dtype \n",
      "---  ------                          --------------  ----- \n",
      " 0   Age                             10000 non-null  int64 \n",
      " 1   Education_Level                 10000 non-null  object\n",
      " 2   Occupation                      10000 non-null  object\n",
      " 3   Number_of_Dependents            10000 non-null  int64 \n",
      " 4   Location                        10000 non-null  object\n",
      " 5   Work_Experience                 10000 non-null  int64 \n",
      " 6   Marital_Status                  10000 non-null  object\n",
      " 7   Employment_Status               10000 non-null  object\n",
      " 8   Household_Size                  10000 non-null  int64 \n",
      " 9   Homeownership_Status            10000 non-null  object\n",
      " 10  Type_of_Housing                 10000 non-null  object\n",
      " 11  Gender                          10000 non-null  object\n",
      " 12  Primary_Mode_of_Transportation  10000 non-null  object\n",
      " 13  Income                          10000 non-null  int64 \n",
      "dtypes: int64(5), object(9)\n",
      "memory usage: 1.1+ MB\n"
     ]
    }
   ],
   "source": [
    "data.info()"
   ]
  },
  {
   "cell_type": "code",
   "execution_count": 11,
   "id": "b64cc223-85b9-4fc4-a208-c79a21e352ca",
   "metadata": {},
   "outputs": [
    {
     "data": {
      "text/plain": [
       "Index(['Age', 'Education_Level', 'Occupation', 'Number_of_Dependents',\n",
       "       'Location', 'Work_Experience', 'Marital_Status', 'Employment_Status',\n",
       "       'Household_Size', 'Homeownership_Status', 'Type_of_Housing', 'Gender',\n",
       "       'Primary_Mode_of_Transportation', 'Income'],\n",
       "      dtype='object')"
      ]
     },
     "execution_count": 11,
     "metadata": {},
     "output_type": "execute_result"
    }
   ],
   "source": [
    "data.columns"
   ]
  },
  {
   "cell_type": "code",
   "execution_count": 18,
   "id": "2e367d0f-fd55-4852-bac3-de2a410bcba7",
   "metadata": {},
   "outputs": [
    {
     "name": "stdout",
     "output_type": "stream",
     "text": [
      "^C\n",
      "Note: you may need to restart the kernel to use updated packages.\n"
     ]
    }
   ],
   "source": [
    "pip install feature-engine\n"
   ]
  },
  {
   "cell_type": "code",
   "execution_count": 21,
   "id": "bf2d6eb7-102a-4c86-bb00-55bc8d4f7b56",
   "metadata": {},
   "outputs": [
    {
     "name": "stdout",
     "output_type": "stream",
     "text": [
      "1.8.0\n"
     ]
    }
   ],
   "source": [
    "import feature_engine\n",
    "print(feature_engine.__version__)\n"
   ]
  },
  {
   "cell_type": "code",
   "execution_count": 22,
   "id": "3d27580a-fce0-46fc-8b1e-1888578de65c",
   "metadata": {},
   "outputs": [],
   "source": [
    "from feature_engine.imputation import CategoricalImputer"
   ]
  },
  {
   "cell_type": "code",
   "execution_count": 23,
   "id": "b7dbf611-51f5-4d92-8676-a3f29296cb32",
   "metadata": {},
   "outputs": [
    {
     "data": {
      "text/plain": [
       "Age                               0\n",
       "Education_Level                   0\n",
       "Occupation                        0\n",
       "Number_of_Dependents              0\n",
       "Location                          0\n",
       "Work_Experience                   0\n",
       "Marital_Status                    0\n",
       "Employment_Status                 0\n",
       "Household_Size                    0\n",
       "Homeownership_Status              0\n",
       "Type_of_Housing                   0\n",
       "Gender                            0\n",
       "Primary_Mode_of_Transportation    0\n",
       "Income                            0\n",
       "dtype: int64"
      ]
     },
     "execution_count": 23,
     "metadata": {},
     "output_type": "execute_result"
    }
   ],
   "source": [
    "data.isnull().sum()"
   ]
  },
  {
   "cell_type": "code",
   "execution_count": 24,
   "id": "128b0d68-5176-4812-a970-cdce08091698",
   "metadata": {},
   "outputs": [],
   "source": [
    "cat_columns=data.select_dtypes(include=\"object\").columns"
   ]
  },
  {
   "cell_type": "code",
   "execution_count": 25,
   "id": "40137b65-4507-47af-a400-2bcf2f33dd86",
   "metadata": {},
   "outputs": [
    {
     "data": {
      "text/plain": [
       "Index(['Education_Level', 'Occupation', 'Location', 'Marital_Status',\n",
       "       'Employment_Status', 'Homeownership_Status', 'Type_of_Housing',\n",
       "       'Gender', 'Primary_Mode_of_Transportation'],\n",
       "      dtype='object')"
      ]
     },
     "execution_count": 25,
     "metadata": {},
     "output_type": "execute_result"
    },
    {
     "name": "stdout",
     "output_type": "stream",
     "text": [
      "Collecting feature-engine\n",
      "  Downloading feature_engine-1.8.0-py2.py3-none-any.whl.metadata (9.8 kB)\n",
      "Requirement already satisfied: numpy>=1.18.2 in c:\\users\\rajir\\documents\\downloads\\lib\\site-packages (from feature-engine) (1.26.4)\n",
      "Collecting pandas>=2.2.0 (from feature-engine)\n",
      "  Downloading pandas-2.2.2-cp311-cp311-win_amd64.whl.metadata (19 kB)\n",
      "Collecting scikit-learn>=1.4.0 (from feature-engine)\n",
      "  Downloading scikit_learn-1.5.1-cp311-cp311-win_amd64.whl.metadata (12 kB)\n",
      "Requirement already satisfied: scipy>=1.4.1 in c:\\users\\rajir\\documents\\downloads\\lib\\site-packages (from feature-engine) (1.11.4)\n",
      "Requirement already satisfied: statsmodels>=0.11.1 in c:\\users\\rajir\\documents\\downloads\\lib\\site-packages (from feature-engine) (0.14.0)\n",
      "Requirement already satisfied: python-dateutil>=2.8.2 in c:\\users\\rajir\\documents\\downloads\\lib\\site-packages (from pandas>=2.2.0->feature-engine) (2.8.2)\n",
      "Requirement already satisfied: pytz>=2020.1 in c:\\users\\rajir\\documents\\downloads\\lib\\site-packages (from pandas>=2.2.0->feature-engine) (2023.3.post1)\n",
      "Requirement already satisfied: tzdata>=2022.7 in c:\\users\\rajir\\documents\\downloads\\lib\\site-packages (from pandas>=2.2.0->feature-engine) (2023.3)\n",
      "Requirement already satisfied: joblib>=1.2.0 in c:\\users\\rajir\\documents\\downloads\\lib\\site-packages (from scikit-learn>=1.4.0->feature-engine) (1.2.0)\n",
      "Collecting threadpoolctl>=3.1.0 (from scikit-learn>=1.4.0->feature-engine)\n",
      "  Downloading threadpoolctl-3.5.0-py3-none-any.whl.metadata (13 kB)\n",
      "Requirement already satisfied: patsy>=0.5.2 in c:\\users\\rajir\\documents\\downloads\\lib\\site-packages (from statsmodels>=0.11.1->feature-engine) (0.5.3)\n",
      "Requirement already satisfied: packaging>=21.3 in c:\\users\\rajir\\documents\\downloads\\lib\\site-packages (from statsmodels>=0.11.1->feature-engine) (23.1)\n",
      "Requirement already satisfied: six in c:\\users\\rajir\\documents\\downloads\\lib\\site-packages (from patsy>=0.5.2->statsmodels>=0.11.1->feature-engine) (1.16.0)\n",
      "Downloading feature_engine-1.8.0-py2.py3-none-any.whl (357 kB)\n",
      "   ---------------------------------------- 0.0/357.1 kB ? eta -:--:--\n",
      "   --- ----------------------------------- 30.7/357.1 kB 660.6 kB/s eta 0:00:01\n",
      "   ------ -------------------------------- 61.4/357.1 kB 656.4 kB/s eta 0:00:01\n",
      "   ----------- -------------------------- 112.6/357.1 kB 939.4 kB/s eta 0:00:01\n",
      "   ------------------------- -------------- 225.3/357.1 kB 1.3 MB/s eta 0:00:01\n",
      "   -------------------------------------- - 348.2/357.1 kB 1.5 MB/s eta 0:00:01\n",
      "   ---------------------------------------- 357.1/357.1 kB 1.5 MB/s eta 0:00:00\n",
      "Downloading pandas-2.2.2-cp311-cp311-win_amd64.whl (11.6 MB)\n",
      "   ---------------------------------------- 0.0/11.6 MB ? eta -:--:--\n",
      "   - -------------------------------------- 0.4/11.6 MB 11.8 MB/s eta 0:00:01\n",
      "   -- ------------------------------------- 0.8/11.6 MB 8.8 MB/s eta 0:00:02\n",
      "   --- ------------------------------------ 0.9/11.6 MB 8.1 MB/s eta 0:00:02\n",
      "   ----- ---------------------------------- 1.5/11.6 MB 8.0 MB/s eta 0:00:02\n",
      "   ------ --------------------------------- 1.9/11.6 MB 9.1 MB/s eta 0:00:02\n",
      "   --------- ------------------------------ 2.6/11.6 MB 9.3 MB/s eta 0:00:01\n",
      "   ---------- ----------------------------- 3.2/11.6 MB 9.7 MB/s eta 0:00:01\n",
      "   ------------- -------------------------- 4.0/11.6 MB 10.5 MB/s eta 0:00:01\n",
      "   --------------- ------------------------ 4.6/11.6 MB 10.9 MB/s eta 0:00:01\n",
      "   ----------------- ---------------------- 5.2/11.6 MB 11.0 MB/s eta 0:00:01\n",
      "   -------------------- ------------------- 6.0/11.6 MB 11.6 MB/s eta 0:00:01\n",
      "   ----------------------- ---------------- 6.7/11.6 MB 11.9 MB/s eta 0:00:01\n",
      "   ------------------------ --------------- 7.0/11.6 MB 11.8 MB/s eta 0:00:01\n",
      "   ---------------------------- ----------- 8.2/11.6 MB 12.4 MB/s eta 0:00:01\n",
      "   ---------------------------- ----------- 8.3/11.6 MB 11.8 MB/s eta 0:00:01\n",
      "   ------------------------------- -------- 9.1/11.6 MB 12.1 MB/s eta 0:00:01\n",
      "   ---------------------------------- ----- 9.9/11.6 MB 12.5 MB/s eta 0:00:01\n",
      "   ------------------------------------- -- 10.8/11.6 MB 13.4 MB/s eta 0:00:01\n",
      "   ---------------------------------------  11.6/11.6 MB 14.6 MB/s eta 0:00:01\n",
      "   ---------------------------------------- 11.6/11.6 MB 13.6 MB/s eta 0:00:00\n",
      "Downloading scikit_learn-1.5.1-cp311-cp311-win_amd64.whl (11.0 MB)\n",
      "   ---------------------------------------- 0.0/11.0 MB ? eta -:--:--\n",
      "   -- ------------------------------------- 0.7/11.0 MB 23.5 MB/s eta 0:00:01\n",
      "   ----- ---------------------------------- 1.5/11.0 MB 19.6 MB/s eta 0:00:01\n",
      "   -------- ------------------------------- 2.4/11.0 MB 19.1 MB/s eta 0:00:01\n",
      "   ------------ --------------------------- 3.5/11.0 MB 20.0 MB/s eta 0:00:01\n",
      "   ------------- -------------------------- 3.7/11.0 MB 19.7 MB/s eta 0:00:01\n",
      "   ----------------- ---------------------- 4.9/11.0 MB 18.4 MB/s eta 0:00:01\n",
      "   ------------------- -------------------- 5.4/11.0 MB 19.1 MB/s eta 0:00:01\n",
      "   ---------------------- ----------------- 6.2/11.0 MB 17.3 MB/s eta 0:00:01\n",
      "   ------------------------- -------------- 6.9/11.0 MB 17.6 MB/s eta 0:00:01\n",
      "   ------------------------------- -------- 8.6/11.0 MB 18.9 MB/s eta 0:00:01\n",
      "   -------------------------------- ------- 8.9/11.0 MB 17.8 MB/s eta 0:00:01\n",
      "   ---------------------------------- ----- 9.6/11.0 MB 17.5 MB/s eta 0:00:01\n",
      "   ---------------------------------------  11.0/11.0 MB 18.7 MB/s eta 0:00:01\n",
      "   ---------------------------------------- 11.0/11.0 MB 17.7 MB/s eta 0:00:00\n",
      "Downloading threadpoolctl-3.5.0-py3-none-any.whl (18 kB)\n",
      "Installing collected packages: threadpoolctl, scikit-learn, pandas, feature-engine\n",
      "  Attempting uninstall: threadpoolctl\n",
      "    Found existing installation: threadpoolctl 2.2.0\n",
      "    Uninstalling threadpoolctl-2.2.0:\n",
      "      Successfully uninstalled threadpoolctl-2.2.0\n",
      "  Attempting uninstall: scikit-learn\n",
      "    Found existing installation: scikit-learn 1.2.2\n",
      "    Uninstalling scikit-learn-1.2.2:\n",
      "      Successfully uninstalled scikit-learn-1.2.2\n",
      "  Attempting uninstall: pandas\n",
      "    Found existing installation: pandas 2.1.4\n",
      "    Uninstalling pandas-2.1.4:\n",
      "      Successfully uninstalled pandas-2.1.4\n",
      "Successfully installed feature-engine-1.8.0 pandas-2.2.2 scikit-learn-1.5.1 threadpoolctl-3.5.0\n"
     ]
    }
   ],
   "source": [
    "cat_columns"
   ]
  },
  {
   "cell_type": "code",
   "execution_count": 26,
   "id": "6e47621e-529f-4474-9f9f-34c330d5d942",
   "metadata": {},
   "outputs": [],
   "source": [
    "from feature_engine.imputation import MeanMedianImputer"
   ]
  },
  {
   "cell_type": "code",
   "execution_count": 27,
   "id": "0d55ffdd-c847-42b1-8034-af108556952d",
   "metadata": {},
   "outputs": [],
   "source": [
    "num_columns=data.select_dtypes(include=\"number\").columns"
   ]
  },
  {
   "cell_type": "code",
   "execution_count": 28,
   "id": "21007a71-8f20-480e-9a88-be4ac99d5983",
   "metadata": {},
   "outputs": [
    {
     "data": {
      "text/plain": [
       "Index(['Age', 'Number_of_Dependents', 'Work_Experience', 'Household_Size',\n",
       "       'Income'],\n",
       "      dtype='object')"
      ]
     },
     "execution_count": 28,
     "metadata": {},
     "output_type": "execute_result"
    }
   ],
   "source": [
    "num_columns"
   ]
  },
  {
   "cell_type": "code",
   "execution_count": 29,
   "id": "d5415d16-f2fb-4427-88c9-db176152e725",
   "metadata": {},
   "outputs": [],
   "source": [
    "df_num=data.select_dtypes(include=[np.number])"
   ]
  },
  {
   "cell_type": "code",
   "execution_count": 30,
   "id": "9f6547c5-b5b8-4874-ad90-649ff0ddd14a",
   "metadata": {},
   "outputs": [
    {
     "data": {
      "text/html": [
       "<div>\n",
       "<style scoped>\n",
       "    .dataframe tbody tr th:only-of-type {\n",
       "        vertical-align: middle;\n",
       "    }\n",
       "\n",
       "    .dataframe tbody tr th {\n",
       "        vertical-align: top;\n",
       "    }\n",
       "\n",
       "    .dataframe thead th {\n",
       "        text-align: right;\n",
       "    }\n",
       "</style>\n",
       "<table border=\"1\" class=\"dataframe\">\n",
       "  <thead>\n",
       "    <tr style=\"text-align: right;\">\n",
       "      <th></th>\n",
       "      <th>Age</th>\n",
       "      <th>Number_of_Dependents</th>\n",
       "      <th>Work_Experience</th>\n",
       "      <th>Household_Size</th>\n",
       "      <th>Income</th>\n",
       "    </tr>\n",
       "  </thead>\n",
       "  <tbody>\n",
       "    <tr>\n",
       "      <th>0</th>\n",
       "      <td>56</td>\n",
       "      <td>5</td>\n",
       "      <td>21</td>\n",
       "      <td>7</td>\n",
       "      <td>72510</td>\n",
       "    </tr>\n",
       "    <tr>\n",
       "      <th>1</th>\n",
       "      <td>69</td>\n",
       "      <td>0</td>\n",
       "      <td>4</td>\n",
       "      <td>7</td>\n",
       "      <td>75462</td>\n",
       "    </tr>\n",
       "    <tr>\n",
       "      <th>2</th>\n",
       "      <td>46</td>\n",
       "      <td>1</td>\n",
       "      <td>1</td>\n",
       "      <td>7</td>\n",
       "      <td>71748</td>\n",
       "    </tr>\n",
       "    <tr>\n",
       "      <th>3</th>\n",
       "      <td>32</td>\n",
       "      <td>2</td>\n",
       "      <td>32</td>\n",
       "      <td>1</td>\n",
       "      <td>74520</td>\n",
       "    </tr>\n",
       "    <tr>\n",
       "      <th>4</th>\n",
       "      <td>60</td>\n",
       "      <td>3</td>\n",
       "      <td>15</td>\n",
       "      <td>4</td>\n",
       "      <td>640210</td>\n",
       "    </tr>\n",
       "    <tr>\n",
       "      <th>...</th>\n",
       "      <td>...</td>\n",
       "      <td>...</td>\n",
       "      <td>...</td>\n",
       "      <td>...</td>\n",
       "      <td>...</td>\n",
       "    </tr>\n",
       "    <tr>\n",
       "      <th>9995</th>\n",
       "      <td>58</td>\n",
       "      <td>0</td>\n",
       "      <td>26</td>\n",
       "      <td>6</td>\n",
       "      <td>74994</td>\n",
       "    </tr>\n",
       "    <tr>\n",
       "      <th>9996</th>\n",
       "      <td>23</td>\n",
       "      <td>3</td>\n",
       "      <td>16</td>\n",
       "      <td>1</td>\n",
       "      <td>72676</td>\n",
       "    </tr>\n",
       "    <tr>\n",
       "      <th>9997</th>\n",
       "      <td>41</td>\n",
       "      <td>3</td>\n",
       "      <td>50</td>\n",
       "      <td>4</td>\n",
       "      <td>2684820</td>\n",
       "    </tr>\n",
       "    <tr>\n",
       "      <th>9998</th>\n",
       "      <td>44</td>\n",
       "      <td>0</td>\n",
       "      <td>3</td>\n",
       "      <td>1</td>\n",
       "      <td>57955</td>\n",
       "    </tr>\n",
       "    <tr>\n",
       "      <th>9999</th>\n",
       "      <td>37</td>\n",
       "      <td>0</td>\n",
       "      <td>48</td>\n",
       "      <td>7</td>\n",
       "      <td>1131084</td>\n",
       "    </tr>\n",
       "  </tbody>\n",
       "</table>\n",
       "<p>10000 rows × 5 columns</p>\n",
       "</div>"
      ],
      "text/plain": [
       "      Age  Number_of_Dependents  Work_Experience  Household_Size   Income\n",
       "0      56                     5               21               7    72510\n",
       "1      69                     0                4               7    75462\n",
       "2      46                     1                1               7    71748\n",
       "3      32                     2               32               1    74520\n",
       "4      60                     3               15               4   640210\n",
       "...   ...                   ...              ...             ...      ...\n",
       "9995   58                     0               26               6    74994\n",
       "9996   23                     3               16               1    72676\n",
       "9997   41                     3               50               4  2684820\n",
       "9998   44                     0                3               1    57955\n",
       "9999   37                     0               48               7  1131084\n",
       "\n",
       "[10000 rows x 5 columns]"
      ]
     },
     "execution_count": 30,
     "metadata": {},
     "output_type": "execute_result"
    }
   ],
   "source": [
    "df_num"
   ]
  },
  {
   "cell_type": "code",
   "execution_count": 31,
   "id": "2d767671-22ad-4243-b66d-6a9ea6402827",
   "metadata": {},
   "outputs": [],
   "source": [
    "df_cat=data.select_dtypes(include=['object'])"
   ]
  },
  {
   "cell_type": "code",
   "execution_count": 32,
   "id": "dd4f4287-1f4d-4915-8ea5-a18092c8d23d",
   "metadata": {},
   "outputs": [
    {
     "data": {
      "text/html": [
       "<div>\n",
       "<style scoped>\n",
       "    .dataframe tbody tr th:only-of-type {\n",
       "        vertical-align: middle;\n",
       "    }\n",
       "\n",
       "    .dataframe tbody tr th {\n",
       "        vertical-align: top;\n",
       "    }\n",
       "\n",
       "    .dataframe thead th {\n",
       "        text-align: right;\n",
       "    }\n",
       "</style>\n",
       "<table border=\"1\" class=\"dataframe\">\n",
       "  <thead>\n",
       "    <tr style=\"text-align: right;\">\n",
       "      <th></th>\n",
       "      <th>Education_Level</th>\n",
       "      <th>Occupation</th>\n",
       "      <th>Location</th>\n",
       "      <th>Marital_Status</th>\n",
       "      <th>Employment_Status</th>\n",
       "      <th>Homeownership_Status</th>\n",
       "      <th>Type_of_Housing</th>\n",
       "      <th>Gender</th>\n",
       "      <th>Primary_Mode_of_Transportation</th>\n",
       "    </tr>\n",
       "  </thead>\n",
       "  <tbody>\n",
       "    <tr>\n",
       "      <th>0</th>\n",
       "      <td>Master's</td>\n",
       "      <td>Technology</td>\n",
       "      <td>Urban</td>\n",
       "      <td>Married</td>\n",
       "      <td>Full-time</td>\n",
       "      <td>Own</td>\n",
       "      <td>Apartment</td>\n",
       "      <td>Male</td>\n",
       "      <td>Public transit</td>\n",
       "    </tr>\n",
       "    <tr>\n",
       "      <th>1</th>\n",
       "      <td>High School</td>\n",
       "      <td>Finance</td>\n",
       "      <td>Urban</td>\n",
       "      <td>Single</td>\n",
       "      <td>Full-time</td>\n",
       "      <td>Own</td>\n",
       "      <td>Apartment</td>\n",
       "      <td>Male</td>\n",
       "      <td>Biking</td>\n",
       "    </tr>\n",
       "    <tr>\n",
       "      <th>2</th>\n",
       "      <td>Bachelor's</td>\n",
       "      <td>Technology</td>\n",
       "      <td>Urban</td>\n",
       "      <td>Single</td>\n",
       "      <td>Full-time</td>\n",
       "      <td>Own</td>\n",
       "      <td>Single-family home</td>\n",
       "      <td>Female</td>\n",
       "      <td>Car</td>\n",
       "    </tr>\n",
       "    <tr>\n",
       "      <th>3</th>\n",
       "      <td>High School</td>\n",
       "      <td>Others</td>\n",
       "      <td>Urban</td>\n",
       "      <td>Married</td>\n",
       "      <td>Full-time</td>\n",
       "      <td>Own</td>\n",
       "      <td>Apartment</td>\n",
       "      <td>Female</td>\n",
       "      <td>Car</td>\n",
       "    </tr>\n",
       "    <tr>\n",
       "      <th>4</th>\n",
       "      <td>Bachelor's</td>\n",
       "      <td>Finance</td>\n",
       "      <td>Urban</td>\n",
       "      <td>Married</td>\n",
       "      <td>Self-employed</td>\n",
       "      <td>Own</td>\n",
       "      <td>Townhouse</td>\n",
       "      <td>Male</td>\n",
       "      <td>Walking</td>\n",
       "    </tr>\n",
       "    <tr>\n",
       "      <th>...</th>\n",
       "      <td>...</td>\n",
       "      <td>...</td>\n",
       "      <td>...</td>\n",
       "      <td>...</td>\n",
       "      <td>...</td>\n",
       "      <td>...</td>\n",
       "      <td>...</td>\n",
       "      <td>...</td>\n",
       "      <td>...</td>\n",
       "    </tr>\n",
       "    <tr>\n",
       "      <th>9995</th>\n",
       "      <td>High School</td>\n",
       "      <td>Others</td>\n",
       "      <td>Suburban</td>\n",
       "      <td>Divorced</td>\n",
       "      <td>Full-time</td>\n",
       "      <td>Own</td>\n",
       "      <td>Townhouse</td>\n",
       "      <td>Female</td>\n",
       "      <td>Car</td>\n",
       "    </tr>\n",
       "    <tr>\n",
       "      <th>9996</th>\n",
       "      <td>Master's</td>\n",
       "      <td>Technology</td>\n",
       "      <td>Urban</td>\n",
       "      <td>Divorced</td>\n",
       "      <td>Full-time</td>\n",
       "      <td>Own</td>\n",
       "      <td>Single-family home</td>\n",
       "      <td>Female</td>\n",
       "      <td>Biking</td>\n",
       "    </tr>\n",
       "    <tr>\n",
       "      <th>9997</th>\n",
       "      <td>Doctorate</td>\n",
       "      <td>Education</td>\n",
       "      <td>Urban</td>\n",
       "      <td>Single</td>\n",
       "      <td>Full-time</td>\n",
       "      <td>Own</td>\n",
       "      <td>Single-family home</td>\n",
       "      <td>Female</td>\n",
       "      <td>Public transit</td>\n",
       "    </tr>\n",
       "    <tr>\n",
       "      <th>9998</th>\n",
       "      <td>High School</td>\n",
       "      <td>Education</td>\n",
       "      <td>Urban</td>\n",
       "      <td>Married</td>\n",
       "      <td>Part-time</td>\n",
       "      <td>Own</td>\n",
       "      <td>Single-family home</td>\n",
       "      <td>Male</td>\n",
       "      <td>Biking</td>\n",
       "    </tr>\n",
       "    <tr>\n",
       "      <th>9999</th>\n",
       "      <td>High School</td>\n",
       "      <td>Healthcare</td>\n",
       "      <td>Suburban</td>\n",
       "      <td>Married</td>\n",
       "      <td>Part-time</td>\n",
       "      <td>Rent</td>\n",
       "      <td>Single-family home</td>\n",
       "      <td>Male</td>\n",
       "      <td>Public transit</td>\n",
       "    </tr>\n",
       "  </tbody>\n",
       "</table>\n",
       "<p>10000 rows × 9 columns</p>\n",
       "</div>"
      ],
      "text/plain": [
       "     Education_Level  Occupation  Location Marital_Status Employment_Status  \\\n",
       "0           Master's  Technology     Urban        Married         Full-time   \n",
       "1        High School     Finance     Urban         Single         Full-time   \n",
       "2         Bachelor's  Technology     Urban         Single         Full-time   \n",
       "3        High School      Others     Urban        Married         Full-time   \n",
       "4         Bachelor's     Finance     Urban        Married     Self-employed   \n",
       "...              ...         ...       ...            ...               ...   \n",
       "9995     High School      Others  Suburban       Divorced         Full-time   \n",
       "9996        Master's  Technology     Urban       Divorced         Full-time   \n",
       "9997       Doctorate   Education     Urban         Single         Full-time   \n",
       "9998     High School   Education     Urban        Married         Part-time   \n",
       "9999     High School  Healthcare  Suburban        Married         Part-time   \n",
       "\n",
       "     Homeownership_Status     Type_of_Housing  Gender  \\\n",
       "0                     Own           Apartment    Male   \n",
       "1                     Own           Apartment    Male   \n",
       "2                     Own  Single-family home  Female   \n",
       "3                     Own           Apartment  Female   \n",
       "4                     Own           Townhouse    Male   \n",
       "...                   ...                 ...     ...   \n",
       "9995                  Own           Townhouse  Female   \n",
       "9996                  Own  Single-family home  Female   \n",
       "9997                  Own  Single-family home  Female   \n",
       "9998                  Own  Single-family home    Male   \n",
       "9999                 Rent  Single-family home    Male   \n",
       "\n",
       "     Primary_Mode_of_Transportation  \n",
       "0                    Public transit  \n",
       "1                            Biking  \n",
       "2                               Car  \n",
       "3                               Car  \n",
       "4                           Walking  \n",
       "...                             ...  \n",
       "9995                            Car  \n",
       "9996                         Biking  \n",
       "9997                 Public transit  \n",
       "9998                         Biking  \n",
       "9999                 Public transit  \n",
       "\n",
       "[10000 rows x 9 columns]"
      ]
     },
     "execution_count": 32,
     "metadata": {},
     "output_type": "execute_result"
    }
   ],
   "source": [
    "df_cat"
   ]
  },
  {
   "cell_type": "code",
   "execution_count": 33,
   "id": "82064fff-d95c-401f-8323-19755fd013e4",
   "metadata": {},
   "outputs": [],
   "source": [
    "import matplotlib.pyplot as plt\n",
    "%matplotlib inline \n",
    "import seaborn as sns"
   ]
  },
  {
   "cell_type": "code",
   "execution_count": 34,
   "id": "238845f7-8272-41d8-8d51-328e94ae0c8a",
   "metadata": {},
   "outputs": [
    {
     "data": {
      "text/html": [
       "<div>\n",
       "<style scoped>\n",
       "    .dataframe tbody tr th:only-of-type {\n",
       "        vertical-align: middle;\n",
       "    }\n",
       "\n",
       "    .dataframe tbody tr th {\n",
       "        vertical-align: top;\n",
       "    }\n",
       "\n",
       "    .dataframe thead th {\n",
       "        text-align: right;\n",
       "    }\n",
       "</style>\n",
       "<table border=\"1\" class=\"dataframe\">\n",
       "  <thead>\n",
       "    <tr style=\"text-align: right;\">\n",
       "      <th></th>\n",
       "      <th>Age</th>\n",
       "      <th>Number_of_Dependents</th>\n",
       "      <th>Work_Experience</th>\n",
       "      <th>Household_Size</th>\n",
       "      <th>Income</th>\n",
       "    </tr>\n",
       "  </thead>\n",
       "  <tbody>\n",
       "    <tr>\n",
       "      <th>count</th>\n",
       "      <td>10000.000000</td>\n",
       "      <td>10000.000000</td>\n",
       "      <td>10000.000000</td>\n",
       "      <td>10000.000000</td>\n",
       "      <td>1.000000e+04</td>\n",
       "    </tr>\n",
       "    <tr>\n",
       "      <th>mean</th>\n",
       "      <td>44.021700</td>\n",
       "      <td>2.527000</td>\n",
       "      <td>24.858800</td>\n",
       "      <td>3.989600</td>\n",
       "      <td>8.168382e+05</td>\n",
       "    </tr>\n",
       "    <tr>\n",
       "      <th>std</th>\n",
       "      <td>15.203998</td>\n",
       "      <td>1.713991</td>\n",
       "      <td>14.652622</td>\n",
       "      <td>2.010496</td>\n",
       "      <td>1.821089e+06</td>\n",
       "    </tr>\n",
       "    <tr>\n",
       "      <th>min</th>\n",
       "      <td>18.000000</td>\n",
       "      <td>0.000000</td>\n",
       "      <td>0.000000</td>\n",
       "      <td>1.000000</td>\n",
       "      <td>3.104400e+04</td>\n",
       "    </tr>\n",
       "    <tr>\n",
       "      <th>25%</th>\n",
       "      <td>31.000000</td>\n",
       "      <td>1.000000</td>\n",
       "      <td>12.000000</td>\n",
       "      <td>2.000000</td>\n",
       "      <td>6.844600e+04</td>\n",
       "    </tr>\n",
       "    <tr>\n",
       "      <th>50%</th>\n",
       "      <td>44.000000</td>\n",
       "      <td>3.000000</td>\n",
       "      <td>25.000000</td>\n",
       "      <td>4.000000</td>\n",
       "      <td>7.294300e+04</td>\n",
       "    </tr>\n",
       "    <tr>\n",
       "      <th>75%</th>\n",
       "      <td>57.000000</td>\n",
       "      <td>4.000000</td>\n",
       "      <td>37.000000</td>\n",
       "      <td>6.000000</td>\n",
       "      <td>3.506675e+05</td>\n",
       "    </tr>\n",
       "    <tr>\n",
       "      <th>max</th>\n",
       "      <td>70.000000</td>\n",
       "      <td>5.000000</td>\n",
       "      <td>50.000000</td>\n",
       "      <td>7.000000</td>\n",
       "      <td>9.992571e+06</td>\n",
       "    </tr>\n",
       "  </tbody>\n",
       "</table>\n",
       "</div>"
      ],
      "text/plain": [
       "                Age  Number_of_Dependents  Work_Experience  Household_Size  \\\n",
       "count  10000.000000          10000.000000     10000.000000    10000.000000   \n",
       "mean      44.021700              2.527000        24.858800        3.989600   \n",
       "std       15.203998              1.713991        14.652622        2.010496   \n",
       "min       18.000000              0.000000         0.000000        1.000000   \n",
       "25%       31.000000              1.000000        12.000000        2.000000   \n",
       "50%       44.000000              3.000000        25.000000        4.000000   \n",
       "75%       57.000000              4.000000        37.000000        6.000000   \n",
       "max       70.000000              5.000000        50.000000        7.000000   \n",
       "\n",
       "             Income  \n",
       "count  1.000000e+04  \n",
       "mean   8.168382e+05  \n",
       "std    1.821089e+06  \n",
       "min    3.104400e+04  \n",
       "25%    6.844600e+04  \n",
       "50%    7.294300e+04  \n",
       "75%    3.506675e+05  \n",
       "max    9.992571e+06  "
      ]
     },
     "execution_count": 34,
     "metadata": {},
     "output_type": "execute_result"
    }
   ],
   "source": [
    "df_num.describe()"
   ]
  },
  {
   "cell_type": "code",
   "execution_count": 35,
   "id": "dae9a25a-b5fe-4af0-a934-3e43f09cc3bf",
   "metadata": {},
   "outputs": [
    {
     "data": {
      "text/plain": [
       "<Axes: >"
      ]
     },
     "execution_count": 35,
     "metadata": {},
     "output_type": "execute_result"
    },
    {
     "data": {
      "image/png": "[encoded data removed]",
      "text/plain": [
       "<Figure size 640x480 with 1 Axes>"
      ]
     },
     "metadata": {},
     "output_type": "display_data"
    }
   ],
   "source": [
    "sns.boxplot(df_num[['Age','Number_of_Dependents','Work_Experience','Household_Size','Income']])"
   ]
  },
  {
   "cell_type": "code",
   "execution_count": 36,
   "id": "88868469-1990-43e1-97c5-54c1b91159ca",
   "metadata": {},
   "outputs": [],
   "source": [
    "q1=6.844600e+04\n",
    "q3=3.506675e+05\n",
    "IQR =q3-q1\n",
    "UF1 = q3+(1.5)*IQR\n",
    "LF1 = q1-(1.5)*IQR\n"
   ]
  },
  {
   "cell_type": "code",
   "execution_count": 37,
   "id": "8af02599-bc20-4a18-b682-2a81677feee5",
   "metadata": {},
   "outputs": [
    {
     "name": "stdout",
     "output_type": "stream",
     "text": [
      "773999.75\n",
      "-354886.25\n"
     ]
    }
   ],
   "source": [
    "print(UF1)\n",
    "print(LF1)"
   ]
  },
  {
   "cell_type": "code",
   "execution_count": 38,
   "id": "eb70b271-1766-4aa3-80be-15ed07f81890",
   "metadata": {},
   "outputs": [],
   "source": [
    "df_num_1 = df_num[(df_num[\"Income\"] > LF1) & (df_num[\"Income\"] < UF1)]\n"
   ]
  },
  {
   "cell_type": "code",
   "execution_count": 39,
   "id": "89d1a66b-8086-4484-a257-a020a674f299",
   "metadata": {},
   "outputs": [
    {
     "data": {
      "text/plain": [
       "<Axes: >"
      ]
     },
     "execution_count": 39,
     "metadata": {},
     "output_type": "execute_result"
    },
    {
     "data": {
      "image/png": "[encoded data removed]",
      "text/plain": [
       "<Figure size 640x480 with 1 Axes>"
      ]
     },
     "metadata": {},
     "output_type": "display_data"
    }
   ],
   "source": [
    "sns.boxplot(df_num_1)"
   ]
  },
  {
   "cell_type": "code",
   "execution_count": 40,
   "id": "7fa70221-67bb-47ea-b850-c4b4e2e496f6",
   "metadata": {},
   "outputs": [],
   "source": [
    "from sklearn.preprocessing import LabelEncoder"
   ]
  },
  {
   "cell_type": "code",
   "execution_count": 41,
   "id": "96ebcf61-74dc-4928-afb6-95dbf874f086",
   "metadata": {},
   "outputs": [],
   "source": [
    "le=LabelEncoder()"
   ]
  },
  {
   "cell_type": "code",
   "execution_count": 42,
   "id": "c117adfd-c0e6-473f-946f-f2cbf0e2786d",
   "metadata": {},
   "outputs": [
    {
     "data": {
      "text/html": [
       "<div>\n",
       "<style scoped>\n",
       "    .dataframe tbody tr th:only-of-type {\n",
       "        vertical-align: middle;\n",
       "    }\n",
       "\n",
       "    .dataframe tbody tr th {\n",
       "        vertical-align: top;\n",
       "    }\n",
       "\n",
       "    .dataframe thead th {\n",
       "        text-align: right;\n",
       "    }\n",
       "</style>\n",
       "<table border=\"1\" class=\"dataframe\">\n",
       "  <thead>\n",
       "    <tr style=\"text-align: right;\">\n",
       "      <th></th>\n",
       "      <th>Age</th>\n",
       "      <th>Education_Level</th>\n",
       "      <th>Occupation</th>\n",
       "      <th>Number_of_Dependents</th>\n",
       "      <th>Location</th>\n",
       "      <th>Work_Experience</th>\n",
       "      <th>Marital_Status</th>\n",
       "      <th>Employment_Status</th>\n",
       "      <th>Household_Size</th>\n",
       "      <th>Homeownership_Status</th>\n",
       "      <th>Type_of_Housing</th>\n",
       "      <th>Gender</th>\n",
       "      <th>Primary_Mode_of_Transportation</th>\n",
       "      <th>Income</th>\n",
       "    </tr>\n",
       "  </thead>\n",
       "  <tbody>\n",
       "    <tr>\n",
       "      <th>0</th>\n",
       "      <td>56</td>\n",
       "      <td>3</td>\n",
       "      <td>4</td>\n",
       "      <td>5</td>\n",
       "      <td>2</td>\n",
       "      <td>21</td>\n",
       "      <td>1</td>\n",
       "      <td>0</td>\n",
       "      <td>7</td>\n",
       "      <td>0</td>\n",
       "      <td>0</td>\n",
       "      <td>1</td>\n",
       "      <td>2</td>\n",
       "      <td>72510</td>\n",
       "    </tr>\n",
       "    <tr>\n",
       "      <th>1</th>\n",
       "      <td>69</td>\n",
       "      <td>2</td>\n",
       "      <td>1</td>\n",
       "      <td>0</td>\n",
       "      <td>2</td>\n",
       "      <td>4</td>\n",
       "      <td>2</td>\n",
       "      <td>0</td>\n",
       "      <td>7</td>\n",
       "      <td>0</td>\n",
       "      <td>0</td>\n",
       "      <td>1</td>\n",
       "      <td>0</td>\n",
       "      <td>75462</td>\n",
       "    </tr>\n",
       "    <tr>\n",
       "      <th>2</th>\n",
       "      <td>46</td>\n",
       "      <td>0</td>\n",
       "      <td>4</td>\n",
       "      <td>1</td>\n",
       "      <td>2</td>\n",
       "      <td>1</td>\n",
       "      <td>2</td>\n",
       "      <td>0</td>\n",
       "      <td>7</td>\n",
       "      <td>0</td>\n",
       "      <td>1</td>\n",
       "      <td>0</td>\n",
       "      <td>1</td>\n",
       "      <td>71748</td>\n",
       "    </tr>\n",
       "    <tr>\n",
       "      <th>3</th>\n",
       "      <td>32</td>\n",
       "      <td>2</td>\n",
       "      <td>3</td>\n",
       "      <td>2</td>\n",
       "      <td>2</td>\n",
       "      <td>32</td>\n",
       "      <td>1</td>\n",
       "      <td>0</td>\n",
       "      <td>1</td>\n",
       "      <td>0</td>\n",
       "      <td>0</td>\n",
       "      <td>0</td>\n",
       "      <td>1</td>\n",
       "      <td>74520</td>\n",
       "    </tr>\n",
       "    <tr>\n",
       "      <th>4</th>\n",
       "      <td>60</td>\n",
       "      <td>0</td>\n",
       "      <td>1</td>\n",
       "      <td>3</td>\n",
       "      <td>2</td>\n",
       "      <td>15</td>\n",
       "      <td>1</td>\n",
       "      <td>2</td>\n",
       "      <td>4</td>\n",
       "      <td>0</td>\n",
       "      <td>2</td>\n",
       "      <td>1</td>\n",
       "      <td>3</td>\n",
       "      <td>640210</td>\n",
       "    </tr>\n",
       "  </tbody>\n",
       "</table>\n",
       "</div>"
      ],
      "text/plain": [
       "   Age  Education_Level  Occupation  Number_of_Dependents  Location  \\\n",
       "0   56                3           4                     5         2   \n",
       "1   69                2           1                     0         2   \n",
       "2   46                0           4                     1         2   \n",
       "3   32                2           3                     2         2   \n",
       "4   60                0           1                     3         2   \n",
       "\n",
       "   Work_Experience  Marital_Status  Employment_Status  Household_Size  \\\n",
       "0               21               1                  0               7   \n",
       "1                4               2                  0               7   \n",
       "2                1               2                  0               7   \n",
       "3               32               1                  0               1   \n",
       "4               15               1                  2               4   \n",
       "\n",
       "   Homeownership_Status  Type_of_Housing  Gender  \\\n",
       "0                     0                0       1   \n",
       "1                     0                0       1   \n",
       "2                     0                1       0   \n",
       "3                     0                0       0   \n",
       "4                     0                2       1   \n",
       "\n",
       "   Primary_Mode_of_Transportation  Income  \n",
       "0                               2   72510  \n",
       "1                               0   75462  \n",
       "2                               1   71748  \n",
       "3                               1   74520  \n",
       "4                               3  640210  "
      ]
     },
     "execution_count": 42,
     "metadata": {},
     "output_type": "execute_result"
    }
   ],
   "source": [
    "for col in df_cat:\n",
    "    data[col] = le.fit_transform(data[col])\n",
    "\n",
    "data.head()"
   ]
  },
  {
   "cell_type": "code",
   "execution_count": 43,
   "id": "5564b86e-571e-4d58-87bd-701efc2c1cf4",
   "metadata": {},
   "outputs": [
    {
     "data": {
      "text/plain": [
       "(10000, 14)"
      ]
     },
     "execution_count": 43,
     "metadata": {},
     "output_type": "execute_result"
    }
   ],
   "source": [
    "data.shape"
   ]
  },
  {
   "cell_type": "code",
   "execution_count": 44,
   "id": "2cc3ca76-3c2c-4b3c-bd38-61073bee5e49",
   "metadata": {},
   "outputs": [],
   "source": [
    "from sklearn.preprocessing import MinMaxScaler"
   ]
  },
  {
   "cell_type": "code",
   "execution_count": 45,
   "id": "1cc098bc-c859-4148-9446-36c9405456d7",
   "metadata": {},
   "outputs": [],
   "source": [
    "mms=MinMaxScaler()"
   ]
  },
  {
   "cell_type": "code",
   "execution_count": 46,
   "id": "a8e876d5-5dfe-4ce7-b71d-89a78fe16d91",
   "metadata": {},
   "outputs": [],
   "source": [
    "df_num_s=mms.fit_transform(data)"
   ]
  },
  {
   "cell_type": "code",
   "execution_count": 47,
   "id": "390a10b4-f06c-4d93-969a-efb93f09f3b1",
   "metadata": {},
   "outputs": [
    {
     "data": {
      "text/plain": [
       "array([[0.73076923, 1.        , 1.        , ..., 1.        , 0.66666667,\n",
       "        0.00416261],\n",
       "       [0.98076923, 0.66666667, 0.25      , ..., 1.        , 0.        ,\n",
       "        0.00445895],\n",
       "       [0.53846154, 0.        , 1.        , ..., 0.        , 0.33333333,\n",
       "        0.00408612],\n",
       "       ...,\n",
       "       [0.44230769, 0.33333333, 0.        , ..., 0.        , 0.66666667,\n",
       "        0.26640253],\n",
       "       [0.5       , 0.66666667, 0.        , ..., 1.        , 0.        ,\n",
       "        0.00270149],\n",
       "       [0.36538462, 0.66666667, 0.5       , ..., 1.        , 0.66666667,\n",
       "        0.11042885]])"
      ]
     },
     "execution_count": 47,
     "metadata": {},
     "output_type": "execute_result"
    }
   ],
   "source": [
    "df_num_s"
   ]
  },
  {
   "cell_type": "code",
   "execution_count": 48,
   "id": "4b8d2d13-7564-41bc-b997-88fb4907f058",
   "metadata": {},
   "outputs": [],
   "source": [
    "X=data.drop(['Income'],axis=1)\n",
    "y=data['Income']"
   ]
  },
  {
   "cell_type": "code",
   "execution_count": 49,
   "id": "6d808862-4239-4813-974e-febbf20fecf5",
   "metadata": {},
   "outputs": [],
   "source": [
    "from sklearn.model_selection import train_test_split\n",
    "# Split the data into training and testing sets\n",
    "X_train, X_test, y_train, y_test = train_test_split(X, y, test_size=0.3, random_state=42)\n"
   ]
  },
  {
   "cell_type": "code",
   "execution_count": 50,
   "id": "42512cc3-246c-4bbc-8122-f812f1ffe4f5",
   "metadata": {},
   "outputs": [],
   "source": [
    "import mlflow"
   ]
  },
  {
   "cell_type": "code",
   "execution_count": 51,
   "id": "eabd00ae-78dd-4b9b-a687-1bafb79c8dcc",
   "metadata": {},
   "outputs": [],
   "source": [
    "import os\n",
    "os.environ['GIT_PYTHON_REFRESH']='quiet'\n",
    "os.environ['MLFLOW_TRACKING_URI']=\"file:C:\\\\vivi\""
   ]
  },
  {
   "cell_type": "code",
   "execution_count": 52,
   "id": "aecf8266-3c32-4bf8-83c5-11bdfd98a658",
   "metadata": {},
   "outputs": [],
   "source": [
    "mlflow.set_experiment('household-analysis')\n",
    "mlflow.set_experiment_tag('household-tag','ex1')"
   ]
  },
  {
   "cell_type": "code",
   "execution_count": 53,
   "id": "5bfa0e91-a38f-477d-953c-4a96c55ea1d0",
   "metadata": {},
   "outputs": [
    {
     "name": "stderr",
     "output_type": "stream",
     "text": [
      "2024/07/18 18:36:33 WARNING mlflow.utils.environment: Encountered an unexpected error while inferring pip requirements (model URI: C:\\Users\\rajir\\AppData\\Local\\Temp\\tmpxjbaurtj\\model\\model.pkl, flavor: sklearn). Fall back to return ['scikit-learn==1.5.1', 'cloudpickle==2.2.1']. Set logging level to DEBUG to see the full traceback. \n",
      "C:\\Users\\rajir\\Documents\\Downloads\\Lib\\site-packages\\_distutils_hack\\__init__.py:33: UserWarning: Setuptools is replacing distutils.\n",
      "  warnings.warn(\"Setuptools is replacing distutils.\")\n",
      "2024/07/18 18:36:43 WARNING mlflow.utils.environment: Encountered an unexpected error while inferring pip requirements (model URI: C:\\Users\\rajir\\AppData\\Local\\Temp\\tmp05t_ponr\\model\\model.pkl, flavor: sklearn). Fall back to return ['scikit-learn==1.5.1', 'cloudpickle==2.2.1']. Set logging level to DEBUG to see the full traceback. \n"
     ]
    }
   ],
   "source": [
    "with mlflow.start_run():    \n",
    "    from sklearn.ensemble import RandomForestRegressor\n",
    "    from sklearn.ensemble import GradientBoostingRegressor\n",
    "    from sklearn.metrics import r2_score\n",
    "    \n",
    "    # model object initialization\n",
    "    RandFor=RandomForestRegressor(n_estimators=5000,max_depth=6)\n",
    "    GBM=GradientBoostingRegressor(n_estimators=3000,max_depth=6,learning_rate=0.01,min_samples_split=5)\n",
    "    rf_n_estimators=5000\n",
    "    #logging parameters\n",
    "    mlflow.log_param(\"n_estimators\",rf_n_estimators)\n",
    "    mlflow.log_param('rf_max_depth',6)\n",
    "    mlflow.log_param('gbm_n_estimators',3000)\n",
    "    mlflow.log_param('gbm_max_depth',6)\n",
    "    mlflow.log_param('gbm_learning_rate',0.01)\n",
    "    mlflow.log_param('gbm_minimum_samples_split',5)\n",
    "    \n",
    "    #training models\n",
    "    rf=RandFor.fit(X_train,y_train)\n",
    "    gbm=GBM.fit(X_train,y_train)\n",
    "    \n",
    "    #training scores\n",
    "    training_score_rf=RandFor.score(X_train,y_train)\n",
    "    training_score_gbm=GBM.score(X_train,y_train)\n",
    "    \n",
    "    #logging training score\n",
    "    mlflow.log_metric(\"rf_training_score\", training_score_rf)\n",
    "    mlflow.log_metric(\"gbm_training_score\",training_score_gbm)\n",
    "    \n",
    "    #value predictions\n",
    "    y_pred_rf=rf.predict(X_test)\n",
    "    y_pred_gbm=gbm.predict(X_test)\n",
    "    \n",
    "    #prediction evaluations\n",
    "    testing_score_rf=r2_score(y_pred_rf,y_test)\n",
    "    testing_score_gbm=r2_score(y_pred_gbm,y_test)\n",
    "    \n",
    "    #logging evaluation scores\n",
    "    mlflow.log_metric(\"rf_testing_score\", testing_score_rf)\n",
    "    mlflow.log_metric(\"gbm_testing_score\",testing_score_gbm)\n",
    "    \n",
    "    #logging models\n",
    "    mlflow.sklearn.log_model(rf, \"random-forest-model\")\n",
    "    mlflow.sklearn.log_model(gbm, \"gradient-boosting-model\")\n",
    "    mlflow.set_tag(\"iteration_name\", \"test_rf_gb_sklearn\")\n",
    "    mlflow.set_tag(\"feature_set_version\", \"loan default\")\n"
   ]
  },
  {
   "cell_type": "code",
   "execution_count": null,
   "id": "96ced64f-04ec-4c44-9a78-5de764206001",
   "metadata": {},
   "outputs": [],
   "source": []
  }
 ],
 "metadata": {
  "kernelspec": {
   "display_name": "Python 3 (ipykernel)",
   "language": "python",
   "name": "python3"
  },
  "language_info": {
   "codemirror_mode": {
    "name": "ipython",
    "version": 3
   },
   "file_extension": ".py",
   "mimetype": "text/x-python",
   "name": "python",
   "nbconvert_exporter": "python",
   "pygments_lexer": "ipython3",
   "version": "3.11.7"
  }
 },
 "nbformat": 4,
 "nbformat_minor": 5
}
